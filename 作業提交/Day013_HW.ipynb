{
 "cells": [
  {
   "cell_type": "markdown",
   "metadata": {},
   "source": [
    "# PTT 網路爬蟲實作練習\n",
    "\n",
    "\n",
    "* 能夠利用 Request + BeatifulSour 撰寫爬蟲，並存放到合適的資料結構\n"
   ]
  },
  {
   "cell_type": "markdown",
   "metadata": {},
   "source": [
    "## 作業目標\n",
    "\n",
    "根據範例 ，完成以下問題：\n",
    "\n",
    "* ① 印出最新文章的「作者」「標題」「時間」\n",
    "* ② 印出第一頁所有文章的「作者」「標題」「時間」\n"
   ]
  },
  {
   "cell_type": "markdown",
   "metadata": {},
   "source": [
    "### ① 印出最新文章的「作者」「標題」「時間」"
   ]
  },
  {
   "cell_type": "code",
   "execution_count": 1,
   "metadata": {},
   "outputs": [
    {
     "name": "stdout",
     "output_type": "stream",
     "text": [
      "最新文章\n",
      "作者: justgetup (gonna fight)\n",
      "標題: [專欄] NBA長人的興衰與定位\n",
      "時間: Wed Jan 22 21:41:01 2020\n"
     ]
    }
   ],
   "source": [
    "import requests\n",
    "from bs4 import BeautifulSoup\n",
    "\n",
    "url = 'https://www.ptt.cc/bbs/NBA/index.html'\n",
    "\n",
    "r = requests.get(url)\n",
    "\n",
    "soup = BeautifulSoup(r.text, \"html5lib\")\n",
    "#print(soup)\n",
    "          \n",
    "d = soup.find(class_=\"title\")\n",
    "#url='https://www.ptt.cc'+d.find('a')['href']\n",
    "#print(url)\n",
    "\n",
    "r = BeautifulSoup(requests.get('https://www.ptt.cc'+d.find('a')['href']).text, \"html5lib\")\n",
    "print(\"最新文章\")\n",
    "for article_d in r.find_all(class_='article-metaline'):\n",
    "    if article_d.find(class_=\"article-meta-tag\").text==\"作者\":\n",
    "        print(\"作者:\",article_d.find(class_=\"article-meta-value\").text)\n",
    "    elif article_d.find(class_=\"article-meta-tag\").text == \"標題\":\n",
    "        print(\"標題:\",article_d.find(class_=\"article-meta-value\").text)\n",
    "    elif article_d.find(class_=\"article-meta-tag\").text == \"時間\":\n",
    "        print(\"時間:\",article_d.find(class_=\"article-meta-value\").text)\n",
    "    else:\n",
    "        print(article_d.find(class_=\"article-meta-tag\").text)\n",
    "        print(article_d.find(class_=\"article-meta-value\").text)\n",
    "        continue\n",
    "        \n"
   ]
  },
  {
   "cell_type": "markdown",
   "metadata": {},
   "source": [
    "### ② 印出第一頁所有文章的「作者」「標題」「時間」"
   ]
  },
  {
   "cell_type": "code",
   "execution_count": 2,
   "metadata": {},
   "outputs": [
    {
     "name": "stdout",
     "output_type": "stream",
     "text": [
      "https://www.ptt.cc/bbs/NBA/M.1579700463.A.BDF.html\n",
      "作者: justgetup (gonna fight)\n",
      "標題: [專欄] NBA長人的興衰與定位\n",
      "時間: Wed Jan 22 21:41:01 2020\n",
      "https://www.ptt.cc/bbs/NBA/M.1558698194.A.1DC.html\n",
      "https://www.ptt.cc/bbs/NBA/M.1561360084.A.52D.html\n",
      "作者: Vedan (味丹)\n",
      "標題: [公告] 樂透取消及未來不再開啟樂透\n",
      "時間: Mon Jun 24 15:08:02 2019\n",
      "https://www.ptt.cc/bbs/NBA/M.1571971445.A.8A8.html\n",
      "作者: qazwsx879345 (Rajon Rondo)\n",
      "標題: [公告] 版主上任相關事項\n",
      "時間: Fri Oct 25 10:44:03 2019\n",
      "https://www.ptt.cc/bbs/NBA/M.1577986661.A.F4D.html\n",
      "作者: Acetoxy (阿斯)\n",
      "標題: [情報] SEASON Schedule 賽程 January 19–20\n",
      "時間: Fri Jan  3 01:37:35 2020\n"
     ]
    }
   ],
   "source": [
    "url = \"https://www.ptt.cc/bbs/NBA/index.html\"\n",
    "\n",
    "r = requests.get(url)\n",
    "\n",
    "soup = BeautifulSoup(r.text, \"html5lib\")\n",
    "#print(soup)\n",
    "          \n",
    "for d in soup.find_all(class_=\"title\"):\n",
    "    r = BeautifulSoup(requests.get('https://www.ptt.cc'+d.find('a')['href']).text, \"html5lib\")\n",
    "    url='https://www.ptt.cc'+d.find('a')['href']\n",
    "    print(url)\n",
    "    \n",
    "    for article_d in r.find_all(class_='article-metaline'):\n",
    "        if article_d.find(class_=\"article-meta-tag\").text==\"作者\":\n",
    "            print(\"作者:\",article_d.find(class_=\"article-meta-value\").text)\n",
    "        elif article_d.find(class_=\"article-meta-tag\").text == \"標題\":\n",
    "            print(\"標題:\",article_d.find(class_=\"article-meta-value\").text)\n",
    "        elif article_d.find(class_=\"article-meta-tag\").text == \"時間\":\n",
    "            print(\"時間:\",article_d.find(class_=\"article-meta-value\").text)\n",
    "        else:\n",
    "            print(article_d.find(class_=\"article-meta-tag\").text)\n",
    "            print(article_d.find(class_=\"article-meta-value\").text)\n",
    "            continue"
   ]
  },
  {
   "cell_type": "markdown",
   "metadata": {},
   "source": [
    "### ③ 試著爬爬看其他版的文章"
   ]
  },
  {
   "cell_type": "code",
   "execution_count": 3,
   "metadata": {},
   "outputs": [
    {
     "name": "stdout",
     "output_type": "stream",
     "text": [
      "https://www.ptt.cc/bbs/Aromatherapy/M.1578377546.A.2F7.html\n",
      "作者: fengOr (OraliaF)\n",
      "標題: [發問] 頭部整合按摩油跟巨人聖油\n",
      "時間: Tue Jan  7 14:12:24 2020\n",
      "https://www.ptt.cc/bbs/Aromatherapy/M.1578385186.A.FD1.html\n",
      "作者: rhetoric ( Rhetoric)\n",
      "標題: [情報] 文章分享- 孕婦芳療守則\n",
      "時間: Tue Jan  7 16:19:43 2020\n",
      "https://www.ptt.cc/bbs/Aromatherapy/M.1578402035.A.D4F.html\n",
      "作者: justbemyself (自在)\n",
      "標題: [閒聊] 行銷高明的多特瑞doTerra\n",
      "時間: Tue Jan  7 21:00:33 2020\n",
      "https://www.ptt.cc/bbs/Aromatherapy/M.1578664896.A.764.html\n",
      "作者: JUNG819 (撈魚撈麵 )\n",
      "標題: [發問] 關於皮膚保養應該多久換一次精油\n",
      "時間: Fri Jan 10 22:01:34 2020\n",
      "https://www.ptt.cc/bbs/Aromatherapy/M.1578795992.A.9B1.html\n",
      "作者: cameleon (沒必要理解)\n",
      "標題: [課程] 芳療運用於慢性疼痛的經驗與實作\n",
      "時間: Sun Jan 12 10:26:27 2020\n",
      "https://www.ptt.cc/bbs/Aromatherapy/M.1578983289.A.0F9.html\n",
      "作者: PeggyJiang (Radio石頭)\n",
      "標題: [心得] 酒神聖油對經痛問題的改善\n",
      "時間: Tue Jan 14 14:28:07 2020\n",
      "https://www.ptt.cc/bbs/Aromatherapy/M.1579034628.A.83F.html\n",
      "作者: mg139 (mgo)\n",
      "標題: [發問] edens garden 精油品牌\n",
      "時間: Wed Jan 15 04:43:46 2020\n",
      "https://www.ptt.cc/bbs/Aromatherapy/M.1579036214.A.924.html\n",
      "作者: blissate (blessings)\n",
      "標題: [分享] 花精諮詢前、中、後\n",
      "時間: Wed Jan 15 05:10:12 2020\n",
      "https://www.ptt.cc/bbs/Aromatherapy/M.1579167678.A.D9B.html\n",
      "作者: anne1117 (Anne)\n",
      "標題: [分享] 枸櫞Medicinal Citron\n",
      "時間: Thu Jan 16 17:41:16 2020\n",
      "https://www.ptt.cc/bbs/Aromatherapy/M.1579235843.A.567.html\n",
      "作者: peoyuan (金元寶)\n",
      "標題: [發問] CIP國際芳療照護師\n",
      "時間: Fri Jan 17 12:37:21 2020\n",
      "https://www.ptt.cc/bbs/Aromatherapy/M.1579236821.A.8E4.html\n",
      "作者: bbup (人生若只如初見)\n",
      "標題: [閒聊] 除濕機擴香可行性\n",
      "時間: Fri Jan 17 12:53:39 2020\n",
      "https://www.ptt.cc/bbs/Aromatherapy/M.1579353835.A.6E1.html\n",
      "作者: sugar327 (理想人生)\n",
      "標題: [發問] 芳療相關工作\n",
      "時間: Sat Jan 18 21:23:53 2020\n",
      "https://www.ptt.cc/bbs/Aromatherapy/M.1579501016.A.C3A.html\n",
      "作者: aandler (小咪)\n",
      "標題: [閒聊] 大掃除的同時清點庫存\n",
      "時間: Mon Jan 20 14:16:54 2020\n",
      "https://www.ptt.cc/bbs/Aromatherapy/M.1579550401.A.9F4.html\n",
      "作者: elless (鬼島歌王廢慾清)\n",
      "標題: [閒聊] 產地趴趴走的心得\n",
      "時間: Tue Jan 21 03:59:59 2020\n",
      "https://www.ptt.cc/bbs/Aromatherapy/M.1579678740.A.4E0.html\n",
      "作者: NicoGamer (Doraemon)\n",
      "標題: [閒聊] 有人用純露機嗎?\n",
      "時間: Wed Jan 22 15:38:58 2020\n",
      "https://www.ptt.cc/bbs/Aromatherapy/M.1579699686.A.462.html\n",
      "作者: neversayyes (親愛的你)\n",
      "標題: [發問] 陳年的精油們\n",
      "時間: Wed Jan 22 21:28:04 2020\n",
      "https://www.ptt.cc/bbs/Aromatherapy/M.1350467315.A.BC2.html\n",
      "作者: Voglia (雨日)\n",
      "標題: [公告] 芳療板板規 v.121017 試行版\n",
      "時間: Wed Oct 17 17:48:32 2012\n",
      "https://www.ptt.cc/bbs/Aromatherapy/M.1577815511.A.D8E.html\n",
      "作者: h3po3 (咩咩)\n",
      "標題: [公告] 2020年1~6月 交易置底文\n",
      "時間: Wed Jan  1 02:05:09 2020\n",
      "https://www.ptt.cc/bbs/Aromatherapy/M.1577815576.A.6CD.html\n",
      "作者: h3po3 (咩咩)\n",
      "標題: [公告] 2020年1~6月 置底閒聊區\n",
      "時間: Wed Jan  1 02:06:14 2020\n",
      "https://www.ptt.cc/bbs/Aromatherapy/M.1574580052.A.6C4.html\n",
      "作者: h3po3 (咩咩)\n",
      "標題: Fw: [公告] 請使用安全的連線方式連線本站\n",
      "時間: Sun Nov 24 15:20:51 2019\n"
     ]
    }
   ],
   "source": [
    "url = \"https://www.ptt.cc/bbs/Aromatherapy/index.html\"\n",
    "\n",
    "r = requests.get(url)\n",
    "\n",
    "soup = BeautifulSoup(r.text, \"html5lib\")\n",
    "#print(soup)\n",
    "          \n",
    "for d in soup.find_all(class_=\"title\"):\n",
    "    r = BeautifulSoup(requests.get('https://www.ptt.cc'+d.find('a')['href']).text, \"html5lib\")\n",
    "    url='https://www.ptt.cc'+d.find('a')['href']\n",
    "    print(url)\n",
    "    \n",
    "    for article_d in r.find_all(class_='article-metaline'):\n",
    "        if article_d.find(class_=\"article-meta-tag\").text==\"作者\":\n",
    "            print(\"作者:\",article_d.find(class_=\"article-meta-value\").text)\n",
    "        elif article_d.find(class_=\"article-meta-tag\").text == \"標題\":\n",
    "            print(\"標題:\",article_d.find(class_=\"article-meta-value\").text)\n",
    "        elif article_d.find(class_=\"article-meta-tag\").text == \"時間\":\n",
    "            print(\"時間:\",article_d.find(class_=\"article-meta-value\").text)\n",
    "        else:\n",
    "            print(article_d.find(class_=\"article-meta-tag\").text)\n",
    "            print(article_d.find(class_=\"article-meta-value\").text)\n",
    "            continue"
   ]
  },
  {
   "cell_type": "code",
   "execution_count": null,
   "metadata": {},
   "outputs": [],
   "source": []
  }
 ],
 "metadata": {
  "kernelspec": {
   "display_name": "Python 3",
   "language": "python",
   "name": "python3"
  },
  "language_info": {
   "codemirror_mode": {
    "name": "ipython",
    "version": 3
   },
   "file_extension": ".py",
   "mimetype": "text/x-python",
   "name": "python",
   "nbconvert_exporter": "python",
   "pygments_lexer": "ipython3",
   "version": "3.7.4"
  }
 },
 "nbformat": 4,
 "nbformat_minor": 2
}
