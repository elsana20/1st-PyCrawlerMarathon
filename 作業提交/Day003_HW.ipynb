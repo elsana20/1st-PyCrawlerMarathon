{
 "cells": [
  {
   "cell_type": "markdown",
   "metadata": {},
   "source": [
    "# Python 下載XML檔案與解析\n",
    "\n",
    "\n",
    "* 了解 xml 檔案格式與內容\n",
    "* 能夠利用套件存取 xml 格式的檔案\n"
   ]
  },
  {
   "cell_type": "markdown",
   "metadata": {},
   "source": [
    "## 作業目標\n",
    "\n",
    "* 比較一下範例檔案中的「File I/O」與「xmltodict」讀出來的內容有什麼差異\n",
    "\n",
    "* 根據範例檔案的結果：\n",
    "    1. 請問高雄市有多少地區有溫度資料？\n",
    "    2. 請取出每一個地區所記錄的第一個時間點跟溫度\n",
    "    3. 請取出第一個地區所記錄的每一個時間點跟溫度"
   ]
  },
  {
   "cell_type": "markdown",
   "metadata": {},
   "source": [
    "### 比較一下範例檔案中的「File I/O」與「xmltodict」讀出來的內容有什麼差異\n"
   ]
  },
  {
   "cell_type": "markdown",
   "metadata": {},
   "source": [
    "XML檔案格式利用標籤記錄資料\n",
    "\n",
    "「File I/O」把XML檔視為純文字，以純文字的方式讀取檔案，每次讀取一整行文字。「xmltodict」可以把XML標籤中的資料當做字典，直接讀取出來。"
   ]
  },
  {
   "cell_type": "markdown",
   "metadata": {},
   "source": [
    "### 根據範例檔案的結果：\n",
    "\n",
    "1. 請問高雄市有多少地區有溫度資料？\n",
    "2. 請取出每一個地區所記錄的第一個時間點跟溫度\n",
    "3. 請取出第一個地區所記錄的每一個時間點跟溫度"
   ]
  },
  {
   "cell_type": "code",
   "execution_count": 1,
   "metadata": {},
   "outputs": [
    {
     "name": "stdout",
     "output_type": "stream",
     "text": [
      "高雄市\n",
      "鹽埕區\n",
      "鼓山區\n",
      "左營區\n",
      "楠梓區\n",
      "三民區\n",
      "新興區\n",
      "前金區\n",
      "苓雅區\n",
      "前鎮區\n",
      "旗津區\n",
      "小港區\n",
      "鳳山區\n",
      "林園區\n",
      "大寮區\n",
      "大樹區\n",
      "大社區\n",
      "仁武區\n",
      "鳥松區\n",
      "岡山區\n",
      "橋頭區\n",
      "燕巢區\n",
      "田寮區\n",
      "阿蓮區\n",
      "路竹區\n",
      "湖內區\n",
      "茄萣區\n",
      "永安區\n",
      "彌陀區\n",
      "梓官區\n",
      "旗山區\n",
      "美濃區\n",
      "六龜區\n",
      "甲仙區\n",
      "杉林區\n",
      "內門區\n",
      "茂林區\n",
      "桃源區\n",
      "那瑪夏區\n",
      "高雄有 38 個地區有溫度資料\n"
     ]
    }
   ],
   "source": [
    "# 1. 請問高雄市有多少地區有溫度資料？\n",
    "import xmltodict\n",
    "# 用xmltodict存取XML檔案\n",
    "with open('./data/64_72hr_CH.xml',encoding = 'utf-8') as fd:\n",
    "     doc = dict(xmltodict.parse(fd.read()))\n",
    "\n",
    "# 存取高雄資訊\n",
    "print(doc['cwbopendata']['dataset']['locations']['locationsName'])\n",
    "\n",
    "# 用迴圈存取高雄區域的資訊\n",
    "location_data = doc['cwbopendata']['dataset']['locations']['location']\n",
    "#location_data是xmltodict parse XML檔案後的資料\n",
    "#parse到location，所以不同的location視為一筆資料\n",
    "\n",
    "for area_data in location_data:\n",
    "    print (area_data['locationName'])\n",
    "    # area_data為變數,代表location_data中的每一筆資料\n",
    "    # 每一筆資料用不同的標籤名字識別，如locationName\n",
    "        \n",
    "print('高雄有', len(location_data), '個地區有溫度資料')\n",
    "#用 len()計算location_data中共有幾筆資料\n",
    "\n",
    "\n",
    "# 傳統程式寫法\n",
    "# count_number = 0\n",
    "# area_tempers = doc['cwbopendata']['dataset']['locations']['location']\n",
    "# for area_temper in area_tempers:\n",
    "#     for weatherElement in area_temper['weatherElement']:\n",
    "#         if weatherElement['description'] == '溫度':\n",
    "#             count_number += 1\n",
    "# print('高雄有%s個地區有溫度資料' % count_number)"
   ]
  },
  {
   "cell_type": "code",
   "execution_count": 2,
   "metadata": {},
   "outputs": [
    {
     "name": "stdout",
     "output_type": "stream",
     "text": [
      "鹽埕區 第一個時間點是 2019-12-31T18:00:00+08:00 溫度 21 度\n",
      "鼓山區 第一個時間點是 2019-12-31T18:00:00+08:00 溫度 21 度\n",
      "左營區 第一個時間點是 2019-12-31T18:00:00+08:00 溫度 21 度\n",
      "楠梓區 第一個時間點是 2019-12-31T18:00:00+08:00 溫度 21 度\n",
      "三民區 第一個時間點是 2019-12-31T18:00:00+08:00 溫度 21 度\n",
      "新興區 第一個時間點是 2019-12-31T18:00:00+08:00 溫度 21 度\n",
      "前金區 第一個時間點是 2019-12-31T18:00:00+08:00 溫度 21 度\n",
      "苓雅區 第一個時間點是 2019-12-31T18:00:00+08:00 溫度 21 度\n",
      "前鎮區 第一個時間點是 2019-12-31T18:00:00+08:00 溫度 21 度\n",
      "旗津區 第一個時間點是 2019-12-31T18:00:00+08:00 溫度 21 度\n",
      "小港區 第一個時間點是 2019-12-31T18:00:00+08:00 溫度 22 度\n",
      "鳳山區 第一個時間點是 2019-12-31T18:00:00+08:00 溫度 21 度\n",
      "林園區 第一個時間點是 2019-12-31T18:00:00+08:00 溫度 22 度\n",
      "大寮區 第一個時間點是 2019-12-31T18:00:00+08:00 溫度 22 度\n",
      "大樹區 第一個時間點是 2019-12-31T18:00:00+08:00 溫度 21 度\n",
      "大社區 第一個時間點是 2019-12-31T18:00:00+08:00 溫度 20 度\n",
      "仁武區 第一個時間點是 2019-12-31T18:00:00+08:00 溫度 21 度\n",
      "鳥松區 第一個時間點是 2019-12-31T18:00:00+08:00 溫度 21 度\n",
      "岡山區 第一個時間點是 2019-12-31T18:00:00+08:00 溫度 20 度\n",
      "橋頭區 第一個時間點是 2019-12-31T18:00:00+08:00 溫度 21 度\n",
      "燕巢區 第一個時間點是 2019-12-31T18:00:00+08:00 溫度 20 度\n",
      "田寮區 第一個時間點是 2019-12-31T18:00:00+08:00 溫度 19 度\n",
      "阿蓮區 第一個時間點是 2019-12-31T18:00:00+08:00 溫度 19 度\n",
      "路竹區 第一個時間點是 2019-12-31T18:00:00+08:00 溫度 20 度\n",
      "湖內區 第一個時間點是 2019-12-31T18:00:00+08:00 溫度 19 度\n",
      "茄萣區 第一個時間點是 2019-12-31T18:00:00+08:00 溫度 19 度\n",
      "永安區 第一個時間點是 2019-12-31T18:00:00+08:00 溫度 20 度\n",
      "彌陀區 第一個時間點是 2019-12-31T18:00:00+08:00 溫度 20 度\n",
      "梓官區 第一個時間點是 2019-12-31T18:00:00+08:00 溫度 20 度\n",
      "旗山區 第一個時間點是 2019-12-31T18:00:00+08:00 溫度 19 度\n",
      "美濃區 第一個時間點是 2019-12-31T18:00:00+08:00 溫度 20 度\n",
      "六龜區 第一個時間點是 2019-12-31T18:00:00+08:00 溫度 18 度\n",
      "甲仙區 第一個時間點是 2019-12-31T18:00:00+08:00 溫度 17 度\n",
      "杉林區 第一個時間點是 2019-12-31T18:00:00+08:00 溫度 20 度\n",
      "內門區 第一個時間點是 2019-12-31T18:00:00+08:00 溫度 19 度\n",
      "茂林區 第一個時間點是 2019-12-31T18:00:00+08:00 溫度 19 度\n",
      "桃源區 第一個時間點是 2019-12-31T18:00:00+08:00 溫度 17 度\n",
      "那瑪夏區 第一個時間點是 2019-12-31T18:00:00+08:00 溫度 16 度\n"
     ]
    }
   ],
   "source": [
    "# 2. 請取出每一個地區所記錄的第一個時間點跟溫度\n",
    "\n",
    "#location_data = doc['cwbopendata']['dataset']['locations']['location']\n",
    "for area_data in location_data:\n",
    "    print (area_data['locationName'],'第一個時間點是',area_data['weatherElement'][0]['time'][0]['dataTime'],'溫度',area_data['weatherElement'][0]['time'][0]['elementValue']['value'],'度')\n",
    "    #print (area_data['locationName'])\n",
    "    #print (area_data['weatherElement'][0]['time'][0]['dataTime'])\n",
    "    #print (area_data['weatherElement'][0]['time'][0]['elementValue']['value'])\n",
    "    #因為weatherElement、time在同一個結點中有多筆資料，所以要加上[index]\n",
    "    \n",
    "    \n",
    "    \n",
    "# 傳統程式寫法\n",
    "# areas_temper = doc['cwbopendata']['dataset']['locations']['location']\n",
    "# for area_temper in areas_temper:\n",
    "#     for weatherElement in area_temper['weatherElement']:\n",
    "#         if weatherElement['description'] == '溫度':\n",
    "#             print(area_temper['locationName'], weatherElement['time'][0]['dataTime'], weatherElement['time'][0]['elementValue']['value'], weatherElement['time'][0]['elementValue']['measures'])"
   ]
  },
  {
   "cell_type": "code",
   "execution_count": 3,
   "metadata": {},
   "outputs": [
    {
     "name": "stdout",
     "output_type": "stream",
     "text": [
      "鹽埕區\n",
      "時間點： 2019-12-31T18:00:00+08:00 , 溫度： 21\n",
      "時間點： 2019-12-31T21:00:00+08:00 , 溫度： 20\n",
      "時間點： 2020-01-01T00:00:00+08:00 , 溫度： 18\n",
      "時間點： 2020-01-01T03:00:00+08:00 , 溫度： 18\n",
      "時間點： 2020-01-01T06:00:00+08:00 , 溫度： 18\n",
      "時間點： 2020-01-01T09:00:00+08:00 , 溫度： 18\n",
      "時間點： 2020-01-01T12:00:00+08:00 , 溫度： 22\n",
      "時間點： 2020-01-01T15:00:00+08:00 , 溫度： 23\n",
      "時間點： 2020-01-01T18:00:00+08:00 , 溫度： 21\n",
      "時間點： 2020-01-01T21:00:00+08:00 , 溫度： 20\n",
      "時間點： 2020-01-02T00:00:00+08:00 , 溫度： 19\n",
      "時間點： 2020-01-02T03:00:00+08:00 , 溫度： 19\n",
      "時間點： 2020-01-02T06:00:00+08:00 , 溫度： 18\n",
      "時間點： 2020-01-02T09:00:00+08:00 , 溫度： 19\n",
      "時間點： 2020-01-02T12:00:00+08:00 , 溫度： 23\n",
      "時間點： 2020-01-02T15:00:00+08:00 , 溫度： 24\n",
      "時間點： 2020-01-02T18:00:00+08:00 , 溫度： 22\n",
      "時間點： 2020-01-02T21:00:00+08:00 , 溫度： 21\n",
      "時間點： 2020-01-03T00:00:00+08:00 , 溫度： 20\n",
      "時間點： 2020-01-03T03:00:00+08:00 , 溫度： 19\n",
      "時間點： 2020-01-03T06:00:00+08:00 , 溫度： 18\n",
      "時間點： 2020-01-03T09:00:00+08:00 , 溫度： 19\n",
      "時間點： 2020-01-03T12:00:00+08:00 , 溫度： 23\n",
      "時間點： 2020-01-03T15:00:00+08:00 , 溫度： 24\n"
     ]
    }
   ],
   "source": [
    "# 3. 請取出第一個地區所記錄的每一個時間點跟溫度\n",
    "\n",
    "area_name = location_data[0]\n",
    "#取出第一個區域的名稱\n",
    "print (area_name['locationName'])\n",
    "\n",
    "location_data2 = doc['cwbopendata']['dataset']['locations']['location'][0]['weatherElement'][0]['time']\n",
    "for area_data2 in location_data2:\n",
    "    print ('時間點：',area_data2['dataTime'],', 溫度：',area_data2['elementValue']['value'])\n",
    "\n",
    "    \n",
    "# 傳統程式寫法\n",
    "# areas_temper = doc['cwbopendata']['dataset']['locations']['location']\n",
    "# for area_temper in areas_temper:\n",
    "#     if area_temper['locationName'] == '鹽埕區':\n",
    "#         for weatherElement in area_temper['weatherElement']:\n",
    "#             if weatherElement['description'] == '溫度':\n",
    "#                 for time in weatherElement['time']:\n",
    "#                     print(time['dataTime'], time['elementValue']['value'], time['elementValue']['measures'])"
   ]
  },
  {
   "cell_type": "code",
   "execution_count": null,
   "metadata": {},
   "outputs": [],
   "source": []
  }
 ],
 "metadata": {
  "kernelspec": {
   "display_name": "Python 3",
   "language": "python",
   "name": "python3"
  },
  "language_info": {
   "codemirror_mode": {
    "name": "ipython",
    "version": 3
   },
   "file_extension": ".py",
   "mimetype": "text/x-python",
   "name": "python",
   "nbconvert_exporter": "python",
   "pygments_lexer": "ipython3",
   "version": "3.7.4"
  }
 },
 "nbformat": 4,
 "nbformat_minor": 2
}
